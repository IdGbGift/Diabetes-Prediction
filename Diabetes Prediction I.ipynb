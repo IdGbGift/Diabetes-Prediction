{
 "cells": [
  {
   "cell_type": "code",
   "execution_count": 1,
   "metadata": {},
   "outputs": [],
   "source": [
    "import pandas as pd\n",
    "import matplotlib.pyplot as plt\n",
    "%matplotlib inline\n",
    "\n",
    "import numpy as np\n",
    "import sklearn as skl\n",
    "\n",
    "import seaborn as sns\n",
    "\n",
    "\n",
    "import plotly.graph_objects as go\n",
    "from scipy.stats import multivariate_normal as mn"
   ]
  },
  {
   "cell_type": "code",
   "execution_count": 2,
   "metadata": {
    "scrolled": false
   },
   "outputs": [
    {
     "data": {
      "text/html": [
       "<div>\n",
       "<style scoped>\n",
       "    .dataframe tbody tr th:only-of-type {\n",
       "        vertical-align: middle;\n",
       "    }\n",
       "\n",
       "    .dataframe tbody tr th {\n",
       "        vertical-align: top;\n",
       "    }\n",
       "\n",
       "    .dataframe thead th {\n",
       "        text-align: right;\n",
       "    }\n",
       "</style>\n",
       "<table border=\"1\" class=\"dataframe\">\n",
       "  <thead>\n",
       "    <tr style=\"text-align: right;\">\n",
       "      <th></th>\n",
       "      <th>age</th>\n",
       "      <th>bloodpressure</th>\n",
       "      <th>bloodsugar</th>\n",
       "      <th>BMI</th>\n",
       "      <th>weight</th>\n",
       "      <th>outcome</th>\n",
       "    </tr>\n",
       "  </thead>\n",
       "  <tbody>\n",
       "    <tr>\n",
       "      <th>0</th>\n",
       "      <td>55</td>\n",
       "      <td>118</td>\n",
       "      <td>350</td>\n",
       "      <td>33.0</td>\n",
       "      <td>60</td>\n",
       "      <td>1</td>\n",
       "    </tr>\n",
       "    <tr>\n",
       "      <th>1</th>\n",
       "      <td>38</td>\n",
       "      <td>105</td>\n",
       "      <td>150</td>\n",
       "      <td>23.3</td>\n",
       "      <td>57</td>\n",
       "      <td>0</td>\n",
       "    </tr>\n",
       "    <tr>\n",
       "      <th>2</th>\n",
       "      <td>32</td>\n",
       "      <td>107</td>\n",
       "      <td>160</td>\n",
       "      <td>23.3</td>\n",
       "      <td>66</td>\n",
       "      <td>0</td>\n",
       "    </tr>\n",
       "    <tr>\n",
       "      <th>3</th>\n",
       "      <td>21</td>\n",
       "      <td>73</td>\n",
       "      <td>200</td>\n",
       "      <td>28.1</td>\n",
       "      <td>80</td>\n",
       "      <td>1</td>\n",
       "    </tr>\n",
       "    <tr>\n",
       "      <th>4</th>\n",
       "      <td>33</td>\n",
       "      <td>103</td>\n",
       "      <td>137</td>\n",
       "      <td>43.1</td>\n",
       "      <td>100</td>\n",
       "      <td>0</td>\n",
       "    </tr>\n",
       "    <tr>\n",
       "      <th>5</th>\n",
       "      <td>50</td>\n",
       "      <td>124</td>\n",
       "      <td>150</td>\n",
       "      <td>34.6</td>\n",
       "      <td>98</td>\n",
       "      <td>0</td>\n",
       "    </tr>\n",
       "    <tr>\n",
       "      <th>6</th>\n",
       "      <td>40</td>\n",
       "      <td>107</td>\n",
       "      <td>145</td>\n",
       "      <td>27.5</td>\n",
       "      <td>70</td>\n",
       "      <td>0</td>\n",
       "    </tr>\n",
       "    <tr>\n",
       "      <th>7</th>\n",
       "      <td>32</td>\n",
       "      <td>116</td>\n",
       "      <td>190</td>\n",
       "      <td>24.5</td>\n",
       "      <td>72</td>\n",
       "      <td>0</td>\n",
       "    </tr>\n",
       "    <tr>\n",
       "      <th>8</th>\n",
       "      <td>40</td>\n",
       "      <td>103</td>\n",
       "      <td>162</td>\n",
       "      <td>27.5</td>\n",
       "      <td>75</td>\n",
       "      <td>0</td>\n",
       "    </tr>\n",
       "    <tr>\n",
       "      <th>9</th>\n",
       "      <td>21</td>\n",
       "      <td>96</td>\n",
       "      <td>105</td>\n",
       "      <td>25.5</td>\n",
       "      <td>68</td>\n",
       "      <td>0</td>\n",
       "    </tr>\n",
       "    <tr>\n",
       "      <th>10</th>\n",
       "      <td>33</td>\n",
       "      <td>118</td>\n",
       "      <td>160</td>\n",
       "      <td>28.1</td>\n",
       "      <td>80</td>\n",
       "      <td>0</td>\n",
       "    </tr>\n",
       "    <tr>\n",
       "      <th>11</th>\n",
       "      <td>26</td>\n",
       "      <td>131</td>\n",
       "      <td>187</td>\n",
       "      <td>45.3</td>\n",
       "      <td>88</td>\n",
       "      <td>0</td>\n",
       "    </tr>\n",
       "    <tr>\n",
       "      <th>12</th>\n",
       "      <td>26</td>\n",
       "      <td>103</td>\n",
       "      <td>132</td>\n",
       "      <td>35.5</td>\n",
       "      <td>80</td>\n",
       "      <td>0</td>\n",
       "    </tr>\n",
       "    <tr>\n",
       "      <th>13</th>\n",
       "      <td>29</td>\n",
       "      <td>107</td>\n",
       "      <td>128</td>\n",
       "      <td>30.5</td>\n",
       "      <td>70</td>\n",
       "      <td>0</td>\n",
       "    </tr>\n",
       "    <tr>\n",
       "      <th>14</th>\n",
       "      <td>53</td>\n",
       "      <td>137</td>\n",
       "      <td>210</td>\n",
       "      <td>37.8</td>\n",
       "      <td>95</td>\n",
       "      <td>1</td>\n",
       "    </tr>\n",
       "    <tr>\n",
       "      <th>15</th>\n",
       "      <td>55</td>\n",
       "      <td>125</td>\n",
       "      <td>146</td>\n",
       "      <td>40.0</td>\n",
       "      <td>90</td>\n",
       "      <td>0</td>\n",
       "    </tr>\n",
       "    <tr>\n",
       "      <th>16</th>\n",
       "      <td>31</td>\n",
       "      <td>120</td>\n",
       "      <td>198</td>\n",
       "      <td>45.8</td>\n",
       "      <td>100</td>\n",
       "      <td>0</td>\n",
       "    </tr>\n",
       "    <tr>\n",
       "      <th>17</th>\n",
       "      <td>69</td>\n",
       "      <td>114</td>\n",
       "      <td>178</td>\n",
       "      <td>32.6</td>\n",
       "      <td>99</td>\n",
       "      <td>0</td>\n",
       "    </tr>\n",
       "    <tr>\n",
       "      <th>18</th>\n",
       "      <td>52</td>\n",
       "      <td>81</td>\n",
       "      <td>214</td>\n",
       "      <td>31.0</td>\n",
       "      <td>95</td>\n",
       "      <td>1</td>\n",
       "    </tr>\n",
       "    <tr>\n",
       "      <th>19</th>\n",
       "      <td>46</td>\n",
       "      <td>98</td>\n",
       "      <td>162</td>\n",
       "      <td>32.0</td>\n",
       "      <td>88</td>\n",
       "      <td>0</td>\n",
       "    </tr>\n",
       "    <tr>\n",
       "      <th>20</th>\n",
       "      <td>58</td>\n",
       "      <td>116</td>\n",
       "      <td>210</td>\n",
       "      <td>30.0</td>\n",
       "      <td>90</td>\n",
       "      <td>1</td>\n",
       "    </tr>\n",
       "    <tr>\n",
       "      <th>21</th>\n",
       "      <td>16</td>\n",
       "      <td>91</td>\n",
       "      <td>380</td>\n",
       "      <td>28.8</td>\n",
       "      <td>70</td>\n",
       "      <td>1</td>\n",
       "    </tr>\n",
       "    <tr>\n",
       "      <th>22</th>\n",
       "      <td>34</td>\n",
       "      <td>107</td>\n",
       "      <td>242</td>\n",
       "      <td>28.6</td>\n",
       "      <td>99</td>\n",
       "      <td>1</td>\n",
       "    </tr>\n",
       "    <tr>\n",
       "      <th>23</th>\n",
       "      <td>38</td>\n",
       "      <td>140</td>\n",
       "      <td>180</td>\n",
       "      <td>32.2</td>\n",
       "      <td>100</td>\n",
       "      <td>0</td>\n",
       "    </tr>\n",
       "    <tr>\n",
       "      <th>24</th>\n",
       "      <td>40</td>\n",
       "      <td>78</td>\n",
       "      <td>130</td>\n",
       "      <td>26.8</td>\n",
       "      <td>72</td>\n",
       "      <td>0</td>\n",
       "    </tr>\n",
       "    <tr>\n",
       "      <th>25</th>\n",
       "      <td>77</td>\n",
       "      <td>137</td>\n",
       "      <td>170</td>\n",
       "      <td>25.5</td>\n",
       "      <td>60</td>\n",
       "      <td>0</td>\n",
       "    </tr>\n",
       "    <tr>\n",
       "      <th>26</th>\n",
       "      <td>37</td>\n",
       "      <td>83</td>\n",
       "      <td>175</td>\n",
       "      <td>26.6</td>\n",
       "      <td>78</td>\n",
       "      <td>0</td>\n",
       "    </tr>\n",
       "    <tr>\n",
       "      <th>27</th>\n",
       "      <td>32</td>\n",
       "      <td>99</td>\n",
       "      <td>162</td>\n",
       "      <td>25.8</td>\n",
       "      <td>102</td>\n",
       "      <td>0</td>\n",
       "    </tr>\n",
       "    <tr>\n",
       "      <th>28</th>\n",
       "      <td>48</td>\n",
       "      <td>107</td>\n",
       "      <td>178</td>\n",
       "      <td>30.2</td>\n",
       "      <td>100</td>\n",
       "      <td>0</td>\n",
       "    </tr>\n",
       "    <tr>\n",
       "      <th>29</th>\n",
       "      <td>57</td>\n",
       "      <td>106</td>\n",
       "      <td>165</td>\n",
       "      <td>28.2</td>\n",
       "      <td>98</td>\n",
       "      <td>0</td>\n",
       "    </tr>\n",
       "    <tr>\n",
       "      <th>30</th>\n",
       "      <td>62</td>\n",
       "      <td>119</td>\n",
       "      <td>169</td>\n",
       "      <td>28.8</td>\n",
       "      <td>97</td>\n",
       "      <td>0</td>\n",
       "    </tr>\n",
       "    <tr>\n",
       "      <th>31</th>\n",
       "      <td>69</td>\n",
       "      <td>132</td>\n",
       "      <td>192</td>\n",
       "      <td>35.5</td>\n",
       "      <td>69</td>\n",
       "      <td>0</td>\n",
       "    </tr>\n",
       "    <tr>\n",
       "      <th>32</th>\n",
       "      <td>72</td>\n",
       "      <td>133</td>\n",
       "      <td>183</td>\n",
       "      <td>34.1</td>\n",
       "      <td>57</td>\n",
       "      <td>0</td>\n",
       "    </tr>\n",
       "    <tr>\n",
       "      <th>33</th>\n",
       "      <td>78</td>\n",
       "      <td>121</td>\n",
       "      <td>171</td>\n",
       "      <td>30.2</td>\n",
       "      <td>86</td>\n",
       "      <td>0</td>\n",
       "    </tr>\n",
       "    <tr>\n",
       "      <th>34</th>\n",
       "      <td>81</td>\n",
       "      <td>88</td>\n",
       "      <td>191</td>\n",
       "      <td>35.0</td>\n",
       "      <td>88</td>\n",
       "      <td>0</td>\n",
       "    </tr>\n",
       "    <tr>\n",
       "      <th>35</th>\n",
       "      <td>52</td>\n",
       "      <td>127</td>\n",
       "      <td>169</td>\n",
       "      <td>32.2</td>\n",
       "      <td>84</td>\n",
       "      <td>0</td>\n",
       "    </tr>\n",
       "    <tr>\n",
       "      <th>36</th>\n",
       "      <td>47</td>\n",
       "      <td>96</td>\n",
       "      <td>188</td>\n",
       "      <td>28.3</td>\n",
       "      <td>87</td>\n",
       "      <td>0</td>\n",
       "    </tr>\n",
       "    <tr>\n",
       "      <th>37</th>\n",
       "      <td>41</td>\n",
       "      <td>108</td>\n",
       "      <td>178</td>\n",
       "      <td>26.2</td>\n",
       "      <td>75</td>\n",
       "      <td>0</td>\n",
       "    </tr>\n",
       "    <tr>\n",
       "      <th>38</th>\n",
       "      <td>45</td>\n",
       "      <td>121</td>\n",
       "      <td>159</td>\n",
       "      <td>30.4</td>\n",
       "      <td>79</td>\n",
       "      <td>0</td>\n",
       "    </tr>\n",
       "    <tr>\n",
       "      <th>39</th>\n",
       "      <td>51</td>\n",
       "      <td>134</td>\n",
       "      <td>192</td>\n",
       "      <td>28.8</td>\n",
       "      <td>83</td>\n",
       "      <td>0</td>\n",
       "    </tr>\n",
       "    <tr>\n",
       "      <th>40</th>\n",
       "      <td>56</td>\n",
       "      <td>145</td>\n",
       "      <td>163</td>\n",
       "      <td>32.2</td>\n",
       "      <td>85</td>\n",
       "      <td>0</td>\n",
       "    </tr>\n",
       "    <tr>\n",
       "      <th>41</th>\n",
       "      <td>58</td>\n",
       "      <td>110</td>\n",
       "      <td>174</td>\n",
       "      <td>38.0</td>\n",
       "      <td>88</td>\n",
       "      <td>0</td>\n",
       "    </tr>\n",
       "    <tr>\n",
       "      <th>42</th>\n",
       "      <td>53</td>\n",
       "      <td>117</td>\n",
       "      <td>178</td>\n",
       "      <td>32.3</td>\n",
       "      <td>92</td>\n",
       "      <td>0</td>\n",
       "    </tr>\n",
       "    <tr>\n",
       "      <th>43</th>\n",
       "      <td>64</td>\n",
       "      <td>125</td>\n",
       "      <td>181</td>\n",
       "      <td>35.9</td>\n",
       "      <td>98</td>\n",
       "      <td>0</td>\n",
       "    </tr>\n",
       "    <tr>\n",
       "      <th>44</th>\n",
       "      <td>68</td>\n",
       "      <td>90</td>\n",
       "      <td>196</td>\n",
       "      <td>31.4</td>\n",
       "      <td>89</td>\n",
       "      <td>0</td>\n",
       "    </tr>\n",
       "    <tr>\n",
       "      <th>45</th>\n",
       "      <td>71</td>\n",
       "      <td>100</td>\n",
       "      <td>193</td>\n",
       "      <td>40.0</td>\n",
       "      <td>93</td>\n",
       "      <td>0</td>\n",
       "    </tr>\n",
       "    <tr>\n",
       "      <th>46</th>\n",
       "      <td>42</td>\n",
       "      <td>104</td>\n",
       "      <td>199</td>\n",
       "      <td>38.0</td>\n",
       "      <td>98</td>\n",
       "      <td>0</td>\n",
       "    </tr>\n",
       "  </tbody>\n",
       "</table>\n",
       "</div>"
      ],
      "text/plain": [
       "    age  bloodpressure  bloodsugar   BMI  weight  outcome\n",
       "0    55            118         350  33.0      60        1\n",
       "1    38            105         150  23.3      57        0\n",
       "2    32            107         160  23.3      66        0\n",
       "3    21             73         200  28.1      80        1\n",
       "4    33            103         137  43.1     100        0\n",
       "5    50            124         150  34.6      98        0\n",
       "6    40            107         145  27.5      70        0\n",
       "7    32            116         190  24.5      72        0\n",
       "8    40            103         162  27.5      75        0\n",
       "9    21             96         105  25.5      68        0\n",
       "10   33            118         160  28.1      80        0\n",
       "11   26            131         187  45.3      88        0\n",
       "12   26            103         132  35.5      80        0\n",
       "13   29            107         128  30.5      70        0\n",
       "14   53            137         210  37.8      95        1\n",
       "15   55            125         146  40.0      90        0\n",
       "16   31            120         198  45.8     100        0\n",
       "17   69            114         178  32.6      99        0\n",
       "18   52             81         214  31.0      95        1\n",
       "19   46             98         162  32.0      88        0\n",
       "20   58            116         210  30.0      90        1\n",
       "21   16             91         380  28.8      70        1\n",
       "22   34            107         242  28.6      99        1\n",
       "23   38            140         180  32.2     100        0\n",
       "24   40             78         130  26.8      72        0\n",
       "25   77            137         170  25.5      60        0\n",
       "26   37             83         175  26.6      78        0\n",
       "27   32             99         162  25.8     102        0\n",
       "28   48            107         178  30.2     100        0\n",
       "29   57            106         165  28.2      98        0\n",
       "30   62            119         169  28.8      97        0\n",
       "31   69            132         192  35.5      69        0\n",
       "32   72            133         183  34.1      57        0\n",
       "33   78            121         171  30.2      86        0\n",
       "34   81             88         191  35.0      88        0\n",
       "35   52            127         169  32.2      84        0\n",
       "36   47             96         188  28.3      87        0\n",
       "37   41            108         178  26.2      75        0\n",
       "38   45            121         159  30.4      79        0\n",
       "39   51            134         192  28.8      83        0\n",
       "40   56            145         163  32.2      85        0\n",
       "41   58            110         174  38.0      88        0\n",
       "42   53            117         178  32.3      92        0\n",
       "43   64            125         181  35.9      98        0\n",
       "44   68             90         196  31.4      89        0\n",
       "45   71            100         193  40.0      93        0\n",
       "46   42            104         199  38.0      98        0"
      ]
     },
     "execution_count": 2,
     "metadata": {},
     "output_type": "execute_result"
    }
   ],
   "source": [
    "data = pd.read_csv('DDst.csv')\n",
    "data"
   ]
  },
  {
   "cell_type": "code",
   "execution_count": 3,
   "metadata": {
    "scrolled": true
   },
   "outputs": [
    {
     "data": {
      "text/html": [
       "<div>\n",
       "<style scoped>\n",
       "    .dataframe tbody tr th:only-of-type {\n",
       "        vertical-align: middle;\n",
       "    }\n",
       "\n",
       "    .dataframe tbody tr th {\n",
       "        vertical-align: top;\n",
       "    }\n",
       "\n",
       "    .dataframe thead th {\n",
       "        text-align: right;\n",
       "    }\n",
       "</style>\n",
       "<table border=\"1\" class=\"dataframe\">\n",
       "  <thead>\n",
       "    <tr style=\"text-align: right;\">\n",
       "      <th></th>\n",
       "      <th>age</th>\n",
       "      <th>bloodpressure</th>\n",
       "      <th>bloodsugar</th>\n",
       "      <th>BMI</th>\n",
       "      <th>weight</th>\n",
       "      <th>outcome</th>\n",
       "    </tr>\n",
       "  </thead>\n",
       "  <tbody>\n",
       "    <tr>\n",
       "      <th>0</th>\n",
       "      <td>55</td>\n",
       "      <td>118</td>\n",
       "      <td>350</td>\n",
       "      <td>33.0</td>\n",
       "      <td>60</td>\n",
       "      <td>1</td>\n",
       "    </tr>\n",
       "    <tr>\n",
       "      <th>1</th>\n",
       "      <td>38</td>\n",
       "      <td>105</td>\n",
       "      <td>150</td>\n",
       "      <td>23.3</td>\n",
       "      <td>57</td>\n",
       "      <td>0</td>\n",
       "    </tr>\n",
       "    <tr>\n",
       "      <th>2</th>\n",
       "      <td>32</td>\n",
       "      <td>107</td>\n",
       "      <td>160</td>\n",
       "      <td>23.3</td>\n",
       "      <td>66</td>\n",
       "      <td>0</td>\n",
       "    </tr>\n",
       "    <tr>\n",
       "      <th>3</th>\n",
       "      <td>21</td>\n",
       "      <td>73</td>\n",
       "      <td>200</td>\n",
       "      <td>28.1</td>\n",
       "      <td>80</td>\n",
       "      <td>1</td>\n",
       "    </tr>\n",
       "    <tr>\n",
       "      <th>4</th>\n",
       "      <td>33</td>\n",
       "      <td>103</td>\n",
       "      <td>137</td>\n",
       "      <td>43.1</td>\n",
       "      <td>100</td>\n",
       "      <td>0</td>\n",
       "    </tr>\n",
       "  </tbody>\n",
       "</table>\n",
       "</div>"
      ],
      "text/plain": [
       "   age  bloodpressure  bloodsugar   BMI  weight  outcome\n",
       "0   55            118         350  33.0      60        1\n",
       "1   38            105         150  23.3      57        0\n",
       "2   32            107         160  23.3      66        0\n",
       "3   21             73         200  28.1      80        1\n",
       "4   33            103         137  43.1     100        0"
      ]
     },
     "execution_count": 3,
     "metadata": {},
     "output_type": "execute_result"
    }
   ],
   "source": [
    "data.head()"
   ]
  },
  {
   "cell_type": "code",
   "execution_count": 4,
   "metadata": {},
   "outputs": [
    {
     "data": {
      "text/html": [
       "<div>\n",
       "<style scoped>\n",
       "    .dataframe tbody tr th:only-of-type {\n",
       "        vertical-align: middle;\n",
       "    }\n",
       "\n",
       "    .dataframe tbody tr th {\n",
       "        vertical-align: top;\n",
       "    }\n",
       "\n",
       "    .dataframe thead th {\n",
       "        text-align: right;\n",
       "    }\n",
       "</style>\n",
       "<table border=\"1\" class=\"dataframe\">\n",
       "  <thead>\n",
       "    <tr style=\"text-align: right;\">\n",
       "      <th></th>\n",
       "      <th>age</th>\n",
       "      <th>bloodpressure</th>\n",
       "      <th>bloodsugar</th>\n",
       "      <th>BMI</th>\n",
       "      <th>weight</th>\n",
       "      <th>outcome</th>\n",
       "    </tr>\n",
       "  </thead>\n",
       "  <tbody>\n",
       "    <tr>\n",
       "      <th>42</th>\n",
       "      <td>53</td>\n",
       "      <td>117</td>\n",
       "      <td>178</td>\n",
       "      <td>32.3</td>\n",
       "      <td>92</td>\n",
       "      <td>0</td>\n",
       "    </tr>\n",
       "    <tr>\n",
       "      <th>43</th>\n",
       "      <td>64</td>\n",
       "      <td>125</td>\n",
       "      <td>181</td>\n",
       "      <td>35.9</td>\n",
       "      <td>98</td>\n",
       "      <td>0</td>\n",
       "    </tr>\n",
       "    <tr>\n",
       "      <th>44</th>\n",
       "      <td>68</td>\n",
       "      <td>90</td>\n",
       "      <td>196</td>\n",
       "      <td>31.4</td>\n",
       "      <td>89</td>\n",
       "      <td>0</td>\n",
       "    </tr>\n",
       "    <tr>\n",
       "      <th>45</th>\n",
       "      <td>71</td>\n",
       "      <td>100</td>\n",
       "      <td>193</td>\n",
       "      <td>40.0</td>\n",
       "      <td>93</td>\n",
       "      <td>0</td>\n",
       "    </tr>\n",
       "    <tr>\n",
       "      <th>46</th>\n",
       "      <td>42</td>\n",
       "      <td>104</td>\n",
       "      <td>199</td>\n",
       "      <td>38.0</td>\n",
       "      <td>98</td>\n",
       "      <td>0</td>\n",
       "    </tr>\n",
       "  </tbody>\n",
       "</table>\n",
       "</div>"
      ],
      "text/plain": [
       "    age  bloodpressure  bloodsugar   BMI  weight  outcome\n",
       "42   53            117         178  32.3      92        0\n",
       "43   64            125         181  35.9      98        0\n",
       "44   68             90         196  31.4      89        0\n",
       "45   71            100         193  40.0      93        0\n",
       "46   42            104         199  38.0      98        0"
      ]
     },
     "execution_count": 4,
     "metadata": {},
     "output_type": "execute_result"
    }
   ],
   "source": [
    "data.tail()"
   ]
  },
  {
   "cell_type": "code",
   "execution_count": 5,
   "metadata": {},
   "outputs": [
    {
     "data": {
      "text/plain": [
       "(47, 6)"
      ]
     },
     "execution_count": 5,
     "metadata": {},
     "output_type": "execute_result"
    }
   ],
   "source": [
    "data.shape"
   ]
  },
  {
   "cell_type": "code",
   "execution_count": 6,
   "metadata": {},
   "outputs": [
    {
     "name": "stdout",
     "output_type": "stream",
     "text": [
      "<class 'pandas.core.frame.DataFrame'>\n",
      "RangeIndex: 47 entries, 0 to 46\n",
      "Data columns (total 6 columns):\n",
      "age              47 non-null int64\n",
      "bloodpressure    47 non-null int64\n",
      "bloodsugar       47 non-null int64\n",
      "BMI              47 non-null float64\n",
      "weight           47 non-null int64\n",
      "outcome          47 non-null int64\n",
      "dtypes: float64(1), int64(5)\n",
      "memory usage: 2.3 KB\n"
     ]
    }
   ],
   "source": [
    "data.info()"
   ]
  },
  {
   "cell_type": "code",
   "execution_count": 7,
   "metadata": {},
   "outputs": [
    {
     "data": {
      "text/html": [
       "<div>\n",
       "<style scoped>\n",
       "    .dataframe tbody tr th:only-of-type {\n",
       "        vertical-align: middle;\n",
       "    }\n",
       "\n",
       "    .dataframe tbody tr th {\n",
       "        vertical-align: top;\n",
       "    }\n",
       "\n",
       "    .dataframe thead th {\n",
       "        text-align: right;\n",
       "    }\n",
       "</style>\n",
       "<table border=\"1\" class=\"dataframe\">\n",
       "  <thead>\n",
       "    <tr style=\"text-align: right;\">\n",
       "      <th></th>\n",
       "      <th>age</th>\n",
       "      <th>bloodpressure</th>\n",
       "      <th>bloodsugar</th>\n",
       "      <th>BMI</th>\n",
       "      <th>weight</th>\n",
       "      <th>outcome</th>\n",
       "    </tr>\n",
       "  </thead>\n",
       "  <tbody>\n",
       "    <tr>\n",
       "      <th>count</th>\n",
       "      <td>47.000000</td>\n",
       "      <td>47.000000</td>\n",
       "      <td>47.000000</td>\n",
       "      <td>47.000000</td>\n",
       "      <td>47.000000</td>\n",
       "      <td>47.000000</td>\n",
       "    </tr>\n",
       "    <tr>\n",
       "      <th>mean</th>\n",
       "      <td>47.425532</td>\n",
       "      <td>111.063830</td>\n",
       "      <td>181.531915</td>\n",
       "      <td>31.680851</td>\n",
       "      <td>84.000000</td>\n",
       "      <td>0.148936</td>\n",
       "    </tr>\n",
       "    <tr>\n",
       "      <th>std</th>\n",
       "      <td>16.363725</td>\n",
       "      <td>17.080887</td>\n",
       "      <td>46.653604</td>\n",
       "      <td>5.435857</td>\n",
       "      <td>13.085006</td>\n",
       "      <td>0.359875</td>\n",
       "    </tr>\n",
       "    <tr>\n",
       "      <th>min</th>\n",
       "      <td>16.000000</td>\n",
       "      <td>73.000000</td>\n",
       "      <td>105.000000</td>\n",
       "      <td>23.300000</td>\n",
       "      <td>57.000000</td>\n",
       "      <td>0.000000</td>\n",
       "    </tr>\n",
       "    <tr>\n",
       "      <th>25%</th>\n",
       "      <td>33.500000</td>\n",
       "      <td>101.500000</td>\n",
       "      <td>161.000000</td>\n",
       "      <td>28.100000</td>\n",
       "      <td>73.500000</td>\n",
       "      <td>0.000000</td>\n",
       "    </tr>\n",
       "    <tr>\n",
       "      <th>50%</th>\n",
       "      <td>47.000000</td>\n",
       "      <td>108.000000</td>\n",
       "      <td>178.000000</td>\n",
       "      <td>30.500000</td>\n",
       "      <td>87.000000</td>\n",
       "      <td>0.000000</td>\n",
       "    </tr>\n",
       "    <tr>\n",
       "      <th>75%</th>\n",
       "      <td>57.500000</td>\n",
       "      <td>122.500000</td>\n",
       "      <td>192.000000</td>\n",
       "      <td>34.800000</td>\n",
       "      <td>96.000000</td>\n",
       "      <td>0.000000</td>\n",
       "    </tr>\n",
       "    <tr>\n",
       "      <th>max</th>\n",
       "      <td>81.000000</td>\n",
       "      <td>145.000000</td>\n",
       "      <td>380.000000</td>\n",
       "      <td>45.800000</td>\n",
       "      <td>102.000000</td>\n",
       "      <td>1.000000</td>\n",
       "    </tr>\n",
       "  </tbody>\n",
       "</table>\n",
       "</div>"
      ],
      "text/plain": [
       "             age  bloodpressure  bloodsugar        BMI      weight    outcome\n",
       "count  47.000000      47.000000   47.000000  47.000000   47.000000  47.000000\n",
       "mean   47.425532     111.063830  181.531915  31.680851   84.000000   0.148936\n",
       "std    16.363725      17.080887   46.653604   5.435857   13.085006   0.359875\n",
       "min    16.000000      73.000000  105.000000  23.300000   57.000000   0.000000\n",
       "25%    33.500000     101.500000  161.000000  28.100000   73.500000   0.000000\n",
       "50%    47.000000     108.000000  178.000000  30.500000   87.000000   0.000000\n",
       "75%    57.500000     122.500000  192.000000  34.800000   96.000000   0.000000\n",
       "max    81.000000     145.000000  380.000000  45.800000  102.000000   1.000000"
      ]
     },
     "execution_count": 7,
     "metadata": {},
     "output_type": "execute_result"
    }
   ],
   "source": [
    "data.describe()"
   ]
  },
  {
   "cell_type": "code",
   "execution_count": 8,
   "metadata": {},
   "outputs": [
    {
     "data": {
      "text/plain": [
       "array([[ 55. , 118. , 350. ,  33. ,  60. ,   1. ],\n",
       "       [ 38. , 105. , 150. ,  23.3,  57. ,   0. ],\n",
       "       [ 32. , 107. , 160. ,  23.3,  66. ,   0. ],\n",
       "       [ 21. ,  73. , 200. ,  28.1,  80. ,   1. ],\n",
       "       [ 33. , 103. , 137. ,  43.1, 100. ,   0. ],\n",
       "       [ 50. , 124. , 150. ,  34.6,  98. ,   0. ],\n",
       "       [ 40. , 107. , 145. ,  27.5,  70. ,   0. ],\n",
       "       [ 32. , 116. , 190. ,  24.5,  72. ,   0. ],\n",
       "       [ 40. , 103. , 162. ,  27.5,  75. ,   0. ],\n",
       "       [ 21. ,  96. , 105. ,  25.5,  68. ,   0. ],\n",
       "       [ 33. , 118. , 160. ,  28.1,  80. ,   0. ],\n",
       "       [ 26. , 131. , 187. ,  45.3,  88. ,   0. ],\n",
       "       [ 26. , 103. , 132. ,  35.5,  80. ,   0. ],\n",
       "       [ 29. , 107. , 128. ,  30.5,  70. ,   0. ],\n",
       "       [ 53. , 137. , 210. ,  37.8,  95. ,   1. ],\n",
       "       [ 55. , 125. , 146. ,  40. ,  90. ,   0. ],\n",
       "       [ 31. , 120. , 198. ,  45.8, 100. ,   0. ],\n",
       "       [ 69. , 114. , 178. ,  32.6,  99. ,   0. ],\n",
       "       [ 52. ,  81. , 214. ,  31. ,  95. ,   1. ],\n",
       "       [ 46. ,  98. , 162. ,  32. ,  88. ,   0. ],\n",
       "       [ 58. , 116. , 210. ,  30. ,  90. ,   1. ],\n",
       "       [ 16. ,  91. , 380. ,  28.8,  70. ,   1. ],\n",
       "       [ 34. , 107. , 242. ,  28.6,  99. ,   1. ],\n",
       "       [ 38. , 140. , 180. ,  32.2, 100. ,   0. ],\n",
       "       [ 40. ,  78. , 130. ,  26.8,  72. ,   0. ],\n",
       "       [ 77. , 137. , 170. ,  25.5,  60. ,   0. ],\n",
       "       [ 37. ,  83. , 175. ,  26.6,  78. ,   0. ],\n",
       "       [ 32. ,  99. , 162. ,  25.8, 102. ,   0. ],\n",
       "       [ 48. , 107. , 178. ,  30.2, 100. ,   0. ],\n",
       "       [ 57. , 106. , 165. ,  28.2,  98. ,   0. ],\n",
       "       [ 62. , 119. , 169. ,  28.8,  97. ,   0. ],\n",
       "       [ 69. , 132. , 192. ,  35.5,  69. ,   0. ],\n",
       "       [ 72. , 133. , 183. ,  34.1,  57. ,   0. ],\n",
       "       [ 78. , 121. , 171. ,  30.2,  86. ,   0. ],\n",
       "       [ 81. ,  88. , 191. ,  35. ,  88. ,   0. ],\n",
       "       [ 52. , 127. , 169. ,  32.2,  84. ,   0. ],\n",
       "       [ 47. ,  96. , 188. ,  28.3,  87. ,   0. ],\n",
       "       [ 41. , 108. , 178. ,  26.2,  75. ,   0. ],\n",
       "       [ 45. , 121. , 159. ,  30.4,  79. ,   0. ],\n",
       "       [ 51. , 134. , 192. ,  28.8,  83. ,   0. ],\n",
       "       [ 56. , 145. , 163. ,  32.2,  85. ,   0. ],\n",
       "       [ 58. , 110. , 174. ,  38. ,  88. ,   0. ],\n",
       "       [ 53. , 117. , 178. ,  32.3,  92. ,   0. ],\n",
       "       [ 64. , 125. , 181. ,  35.9,  98. ,   0. ],\n",
       "       [ 68. ,  90. , 196. ,  31.4,  89. ,   0. ],\n",
       "       [ 71. , 100. , 193. ,  40. ,  93. ,   0. ],\n",
       "       [ 42. , 104. , 199. ,  38. ,  98. ,   0. ]])"
      ]
     },
     "execution_count": 8,
     "metadata": {},
     "output_type": "execute_result"
    }
   ],
   "source": [
    "data.values"
   ]
  },
  {
   "cell_type": "code",
   "execution_count": 9,
   "metadata": {},
   "outputs": [
    {
     "data": {
      "text/plain": [
       "False"
      ]
     },
     "execution_count": 9,
     "metadata": {},
     "output_type": "execute_result"
    }
   ],
   "source": [
    "data.isnull().values.any()\n",
    "#check if any value is null"
   ]
  },
  {
   "cell_type": "code",
   "execution_count": 10,
   "metadata": {},
   "outputs": [
    {
     "data": {
      "text/html": [
       "<style type=\"text/css\">\n",
       "table.dataframe td, table.dataframe th{\n",
       "    border: 1px black solid !important;\n",
       "    color: black !important\n",
       "    }\n",
       "</style>\n"
      ],
      "text/plain": [
       "<IPython.core.display.HTML object>"
      ]
     },
     "metadata": {},
     "output_type": "display_data"
    }
   ],
   "source": [
    "%%HTML\n",
    "<style type=\"text/css\">\n",
    "table.dataframe td, table.dataframe th{\n",
    "    border: 1px black solid !important;\n",
    "    color: black !important\n",
    "    }\n",
    "</style>"
   ]
  },
  {
   "cell_type": "code",
   "execution_count": 11,
   "metadata": {},
   "outputs": [
    {
     "name": "stderr",
     "output_type": "stream",
     "text": [
      "C:\\Users\\User\\Anaconda3\\lib\\site-packages\\scipy\\stats\\stats.py:1713: FutureWarning: Using a non-tuple sequence for multidimensional indexing is deprecated; use `arr[tuple(seq)]` instead of `arr[seq]`. In the future this will be interpreted as an array index, `arr[np.array(seq)]`, which will result either in an error or a different result.\n",
      "  return np.add.reduce(sorted[indexer] * weights, axis=axis) / sumval\n"
     ]
    },
    {
     "data": {
      "image/png": "[encoded data removed]",
      "text/plain": [
       "<Figure size 432x288 with 1 Axes>"
      ]
     },
     "metadata": {
      "needs_background": "light"
     },
     "output_type": "display_data"
    },
    {
     "data": {
      "image/png": "[encoded data removed]",
      "text/plain": [
       "<Figure size 432x288 with 1 Axes>"
      ]
     },
     "metadata": {
      "needs_background": "light"
     },
     "output_type": "display_data"
    },
    {
     "data": {
      "image/png": "[encoded data removed]",
      "text/plain": [
       "<Figure size 432x288 with 1 Axes>"
      ]
     },
     "metadata": {
      "needs_background": "light"
     },
     "output_type": "display_data"
    },
    {
     "data": {
      "image/png": "[encoded data removed]",
      "text/plain": [
       "<Figure size 432x288 with 1 Axes>"
      ]
     },
     "metadata": {
      "needs_background": "light"
     },
     "output_type": "display_data"
    },
    {
     "data": {
      "image/png": "[encoded data removed]",
      "text/plain": [
       "<Figure size 432x288 with 1 Axes>"
      ]
     },
     "metadata": {
      "needs_background": "light"
     },
     "output_type": "display_data"
    }
   ],
   "source": [
    "#Histogram plot\n",
    "for i,col in enumerate(data.columns[:-1]):\n",
    "    plt.figure(i)\n",
    "    sns.distplot(data[col], rug=True);"
   ]
  },
  {
   "cell_type": "code",
   "execution_count": 12,
   "metadata": {
    "scrolled": false
   },
   "outputs": [
    {
     "data": {
      "image/png": "[encoded data removed]",
      "text/plain": [
       "<Figure size 951.5x900 with 30 Axes>"
      ]
     },
     "metadata": {
      "needs_background": "light"
     },
     "output_type": "display_data"
    }
   ],
   "source": [
    "sns.pairplot(data, hue='outcome', diag_kind = 'auto', vars = ['age', 'bloodpressure', 'bloodsugar', 'BMI', 'weight']);"
   ]
  },
  {
   "cell_type": "code",
   "execution_count": 13,
   "metadata": {},
   "outputs": [
    {
     "data": {
      "text/plain": [
       "<matplotlib.axes._subplots.AxesSubplot at 0x1d22fc415f8>"
      ]
     },
     "execution_count": 13,
     "metadata": {},
     "output_type": "execute_result"
    },
    {
     "data": {
      "image/png": "[encoded data removed]",
      "text/plain": [
       "<Figure size 432x288 with 1 Axes>"
      ]
     },
     "metadata": {
      "needs_background": "light"
     },
     "output_type": "display_data"
    }
   ],
   "source": [
    "sns.countplot(data['outcome'])"
   ]
  },
  {
   "cell_type": "code",
   "execution_count": 14,
   "metadata": {},
   "outputs": [
    {
     "data": {
      "text/plain": [
       "<matplotlib.axes._subplots.AxesSubplot at 0x1d22fbf32e8>"
      ]
     },
     "execution_count": 14,
     "metadata": {},
     "output_type": "execute_result"
    },
    {
     "data": {
      "image/png": "[encoded data removed]",
      "text/plain": [
       "<Figure size 432x288 with 1 Axes>"
      ]
     },
     "metadata": {
      "needs_background": "light"
     },
     "output_type": "display_data"
    }
   ],
   "source": [
    "sns.scatterplot(x = 'bloodsugar', y = 'age', hue = 'outcome', data = data)"
   ]
  },
  {
   "cell_type": "code",
   "execution_count": 15,
   "metadata": {
    "scrolled": true
   },
   "outputs": [
    {
     "data": {
      "text/html": [
       "<div>\n",
       "<style scoped>\n",
       "    .dataframe tbody tr th:only-of-type {\n",
       "        vertical-align: middle;\n",
       "    }\n",
       "\n",
       "    .dataframe tbody tr th {\n",
       "        vertical-align: top;\n",
       "    }\n",
       "\n",
       "    .dataframe thead th {\n",
       "        text-align: right;\n",
       "    }\n",
       "</style>\n",
       "<table border=\"1\" class=\"dataframe\">\n",
       "  <thead>\n",
       "    <tr style=\"text-align: right;\">\n",
       "      <th></th>\n",
       "      <th>age</th>\n",
       "      <th>bloodpressure</th>\n",
       "      <th>bloodsugar</th>\n",
       "      <th>BMI</th>\n",
       "      <th>weight</th>\n",
       "      <th>outcome</th>\n",
       "    </tr>\n",
       "  </thead>\n",
       "  <tbody>\n",
       "    <tr>\n",
       "      <th>age</th>\n",
       "      <td>1.000000</td>\n",
       "      <td>0.318396</td>\n",
       "      <td>0.002858</td>\n",
       "      <td>0.157362</td>\n",
       "      <td>0.107214</td>\n",
       "      <td>-0.158658</td>\n",
       "    </tr>\n",
       "    <tr>\n",
       "      <th>bloodpressure</th>\n",
       "      <td>0.318396</td>\n",
       "      <td>1.000000</td>\n",
       "      <td>-0.038836</td>\n",
       "      <td>0.280693</td>\n",
       "      <td>0.019939</td>\n",
       "      <td>-0.192554</td>\n",
       "    </tr>\n",
       "    <tr>\n",
       "      <th>bloodsugar</th>\n",
       "      <td>0.002858</td>\n",
       "      <td>-0.038836</td>\n",
       "      <td>1.000000</td>\n",
       "      <td>0.063038</td>\n",
       "      <td>-0.066272</td>\n",
       "      <td>0.693081</td>\n",
       "    </tr>\n",
       "    <tr>\n",
       "      <th>BMI</th>\n",
       "      <td>0.157362</td>\n",
       "      <td>0.280693</td>\n",
       "      <td>0.063038</td>\n",
       "      <td>1.000000</td>\n",
       "      <td>0.454568</td>\n",
       "      <td>-0.049629</td>\n",
       "    </tr>\n",
       "    <tr>\n",
       "      <th>weight</th>\n",
       "      <td>0.107214</td>\n",
       "      <td>0.019939</td>\n",
       "      <td>-0.066272</td>\n",
       "      <td>0.454568</td>\n",
       "      <td>1.000000</td>\n",
       "      <td>0.004617</td>\n",
       "    </tr>\n",
       "    <tr>\n",
       "      <th>outcome</th>\n",
       "      <td>-0.158658</td>\n",
       "      <td>-0.192554</td>\n",
       "      <td>0.693081</td>\n",
       "      <td>-0.049629</td>\n",
       "      <td>0.004617</td>\n",
       "      <td>1.000000</td>\n",
       "    </tr>\n",
       "  </tbody>\n",
       "</table>\n",
       "</div>"
      ],
      "text/plain": [
       "                    age  bloodpressure  bloodsugar       BMI    weight  \\\n",
       "age            1.000000       0.318396    0.002858  0.157362  0.107214   \n",
       "bloodpressure  0.318396       1.000000   -0.038836  0.280693  0.019939   \n",
       "bloodsugar     0.002858      -0.038836    1.000000  0.063038 -0.066272   \n",
       "BMI            0.157362       0.280693    0.063038  1.000000  0.454568   \n",
       "weight         0.107214       0.019939   -0.066272  0.454568  1.000000   \n",
       "outcome       -0.158658      -0.192554    0.693081 -0.049629  0.004617   \n",
       "\n",
       "                outcome  \n",
       "age           -0.158658  \n",
       "bloodpressure -0.192554  \n",
       "bloodsugar     0.693081  \n",
       "BMI           -0.049629  \n",
       "weight         0.004617  \n",
       "outcome        1.000000  "
      ]
     },
     "execution_count": 15,
     "metadata": {},
     "output_type": "execute_result"
    }
   ],
   "source": [
    "#data correlation table\n",
    "data.corr()"
   ]
  },
  {
   "cell_type": "code",
   "execution_count": 16,
   "metadata": {
    "scrolled": false
   },
   "outputs": [
    {
     "data": {
      "image/png": "[encoded data removed]",
      "text/plain": [
       "<Figure size 576x504 with 2 Axes>"
      ]
     },
     "metadata": {
      "needs_background": "light"
     },
     "output_type": "display_data"
    }
   ],
   "source": [
    "#correlation plot heatmap\n",
    "plt.figure(figsize=(8,7))\n",
    "sns.heatmap(np.abs(data.corr()), annot=True, cmap='RdYlGn', fmt='0.2f');"
   ]
  },
  {
   "cell_type": "code",
   "execution_count": 17,
   "metadata": {},
   "outputs": [
    {
     "data": {
      "text/html": [
       "<div>\n",
       "<style scoped>\n",
       "    .dataframe tbody tr th:only-of-type {\n",
       "        vertical-align: middle;\n",
       "    }\n",
       "\n",
       "    .dataframe tbody tr th {\n",
       "        vertical-align: top;\n",
       "    }\n",
       "\n",
       "    .dataframe thead th {\n",
       "        text-align: right;\n",
       "    }\n",
       "</style>\n",
       "<table border=\"1\" class=\"dataframe\">\n",
       "  <thead>\n",
       "    <tr style=\"text-align: right;\">\n",
       "      <th></th>\n",
       "      <th>age</th>\n",
       "      <th>bloodpressure</th>\n",
       "      <th>bloodsugar</th>\n",
       "      <th>BMI</th>\n",
       "      <th>weight</th>\n",
       "      <th>outcome</th>\n",
       "    </tr>\n",
       "  </thead>\n",
       "  <tbody>\n",
       "    <tr>\n",
       "      <th>age</th>\n",
       "      <td>267.771508</td>\n",
       "      <td>88.993987</td>\n",
       "      <td>2.181776</td>\n",
       "      <td>13.997456</td>\n",
       "      <td>22.956522</td>\n",
       "      <td>-0.934320</td>\n",
       "    </tr>\n",
       "    <tr>\n",
       "      <th>bloodpressure</th>\n",
       "      <td>88.993987</td>\n",
       "      <td>291.756707</td>\n",
       "      <td>-30.947734</td>\n",
       "      <td>26.062118</td>\n",
       "      <td>4.456522</td>\n",
       "      <td>-1.183626</td>\n",
       "    </tr>\n",
       "    <tr>\n",
       "      <th>bloodsugar</th>\n",
       "      <td>2.181776</td>\n",
       "      <td>-30.947734</td>\n",
       "      <td>2176.558742</td>\n",
       "      <td>15.986494</td>\n",
       "      <td>-40.456522</td>\n",
       "      <td>11.636448</td>\n",
       "    </tr>\n",
       "    <tr>\n",
       "      <th>BMI</th>\n",
       "      <td>13.997456</td>\n",
       "      <td>26.062118</td>\n",
       "      <td>15.986494</td>\n",
       "      <td>29.548538</td>\n",
       "      <td>32.332609</td>\n",
       "      <td>-0.097086</td>\n",
       "    </tr>\n",
       "    <tr>\n",
       "      <th>weight</th>\n",
       "      <td>22.956522</td>\n",
       "      <td>4.456522</td>\n",
       "      <td>-40.456522</td>\n",
       "      <td>32.332609</td>\n",
       "      <td>171.217391</td>\n",
       "      <td>0.021739</td>\n",
       "    </tr>\n",
       "    <tr>\n",
       "      <th>outcome</th>\n",
       "      <td>-0.934320</td>\n",
       "      <td>-1.183626</td>\n",
       "      <td>11.636448</td>\n",
       "      <td>-0.097086</td>\n",
       "      <td>0.021739</td>\n",
       "      <td>0.129510</td>\n",
       "    </tr>\n",
       "  </tbody>\n",
       "</table>\n",
       "</div>"
      ],
      "text/plain": [
       "                      age  bloodpressure   bloodsugar        BMI      weight  \\\n",
       "age            267.771508      88.993987     2.181776  13.997456   22.956522   \n",
       "bloodpressure   88.993987     291.756707   -30.947734  26.062118    4.456522   \n",
       "bloodsugar       2.181776     -30.947734  2176.558742  15.986494  -40.456522   \n",
       "BMI             13.997456      26.062118    15.986494  29.548538   32.332609   \n",
       "weight          22.956522       4.456522   -40.456522  32.332609  171.217391   \n",
       "outcome         -0.934320      -1.183626    11.636448  -0.097086    0.021739   \n",
       "\n",
       "                 outcome  \n",
       "age            -0.934320  \n",
       "bloodpressure  -1.183626  \n",
       "bloodsugar     11.636448  \n",
       "BMI            -0.097086  \n",
       "weight          0.021739  \n",
       "outcome         0.129510  "
      ]
     },
     "execution_count": 17,
     "metadata": {},
     "output_type": "execute_result"
    }
   ],
   "source": [
    "# data covariance table\n",
    "data.cov()"
   ]
  },
  {
   "cell_type": "code",
   "execution_count": 18,
   "metadata": {},
   "outputs": [
    {
     "data": {
      "image/png": "[encoded data removed]",
      "text/plain": [
       "<Figure size 576x504 with 2 Axes>"
      ]
     },
     "metadata": {
      "needs_background": "light"
     },
     "output_type": "display_data"
    }
   ],
   "source": [
    "#covariance plot heatmap\n",
    "plt.figure(figsize=(8,7))\n",
    "sns.heatmap(np.abs(data.cov()), annot=True, cmap='RdYlGn', fmt='0.2f');"
   ]
  },
  {
   "cell_type": "code",
   "execution_count": 19,
   "metadata": {
    "scrolled": true
   },
   "outputs": [
    {
     "data": {
      "image/png": "[encoded data removed]",
      "text/plain": [
       "<Figure size 576x504 with 2 Axes>"
      ]
     },
     "metadata": {
      "needs_background": "light"
     },
     "output_type": "display_data"
    }
   ],
   "source": [
    "#2d Histogram\n",
    "plt.figure(figsize=(8,7))\n",
    "plt.hist2d(data['bloodsugar'], data['BMI'], bins=(20,20), cmap='inferno')\n",
    "plt.xlabel('bloodsugar')\n",
    "plt.ylabel('BMI')\n",
    "plt.colorbar();"
   ]
  },
  {
   "cell_type": "code",
   "execution_count": 20,
   "metadata": {},
   "outputs": [],
   "source": [
    "x = pd.DataFrame(data.iloc[:,:-1])\n",
    "y = pd.DataFrame(data.iloc[:,-1])"
   ]
  },
  {
   "cell_type": "code",
   "execution_count": 21,
   "metadata": {},
   "outputs": [
    {
     "data": {
      "text/html": [
       "<div>\n",
       "<style scoped>\n",
       "    .dataframe tbody tr th:only-of-type {\n",
       "        vertical-align: middle;\n",
       "    }\n",
       "\n",
       "    .dataframe tbody tr th {\n",
       "        vertical-align: top;\n",
       "    }\n",
       "\n",
       "    .dataframe thead th {\n",
       "        text-align: right;\n",
       "    }\n",
       "</style>\n",
       "<table border=\"1\" class=\"dataframe\">\n",
       "  <thead>\n",
       "    <tr style=\"text-align: right;\">\n",
       "      <th></th>\n",
       "      <th>age</th>\n",
       "      <th>bloodpressure</th>\n",
       "      <th>bloodsugar</th>\n",
       "      <th>BMI</th>\n",
       "      <th>weight</th>\n",
       "    </tr>\n",
       "  </thead>\n",
       "  <tbody>\n",
       "    <tr>\n",
       "      <th>0</th>\n",
       "      <td>55</td>\n",
       "      <td>118</td>\n",
       "      <td>350</td>\n",
       "      <td>33.0</td>\n",
       "      <td>60</td>\n",
       "    </tr>\n",
       "    <tr>\n",
       "      <th>1</th>\n",
       "      <td>38</td>\n",
       "      <td>105</td>\n",
       "      <td>150</td>\n",
       "      <td>23.3</td>\n",
       "      <td>57</td>\n",
       "    </tr>\n",
       "    <tr>\n",
       "      <th>2</th>\n",
       "      <td>32</td>\n",
       "      <td>107</td>\n",
       "      <td>160</td>\n",
       "      <td>23.3</td>\n",
       "      <td>66</td>\n",
       "    </tr>\n",
       "    <tr>\n",
       "      <th>3</th>\n",
       "      <td>21</td>\n",
       "      <td>73</td>\n",
       "      <td>200</td>\n",
       "      <td>28.1</td>\n",
       "      <td>80</td>\n",
       "    </tr>\n",
       "    <tr>\n",
       "      <th>4</th>\n",
       "      <td>33</td>\n",
       "      <td>103</td>\n",
       "      <td>137</td>\n",
       "      <td>43.1</td>\n",
       "      <td>100</td>\n",
       "    </tr>\n",
       "  </tbody>\n",
       "</table>\n",
       "</div>"
      ],
      "text/plain": [
       "   age  bloodpressure  bloodsugar   BMI  weight\n",
       "0   55            118         350  33.0      60\n",
       "1   38            105         150  23.3      57\n",
       "2   32            107         160  23.3      66\n",
       "3   21             73         200  28.1      80\n",
       "4   33            103         137  43.1     100"
      ]
     },
     "execution_count": 21,
     "metadata": {},
     "output_type": "execute_result"
    }
   ],
   "source": [
    "x.head()"
   ]
  },
  {
   "cell_type": "code",
   "execution_count": 22,
   "metadata": {},
   "outputs": [
    {
     "data": {
      "text/html": [
       "<div>\n",
       "<style scoped>\n",
       "    .dataframe tbody tr th:only-of-type {\n",
       "        vertical-align: middle;\n",
       "    }\n",
       "\n",
       "    .dataframe tbody tr th {\n",
       "        vertical-align: top;\n",
       "    }\n",
       "\n",
       "    .dataframe thead th {\n",
       "        text-align: right;\n",
       "    }\n",
       "</style>\n",
       "<table border=\"1\" class=\"dataframe\">\n",
       "  <thead>\n",
       "    <tr style=\"text-align: right;\">\n",
       "      <th></th>\n",
       "      <th>outcome</th>\n",
       "    </tr>\n",
       "  </thead>\n",
       "  <tbody>\n",
       "    <tr>\n",
       "      <th>0</th>\n",
       "      <td>1</td>\n",
       "    </tr>\n",
       "    <tr>\n",
       "      <th>1</th>\n",
       "      <td>0</td>\n",
       "    </tr>\n",
       "    <tr>\n",
       "      <th>2</th>\n",
       "      <td>0</td>\n",
       "    </tr>\n",
       "    <tr>\n",
       "      <th>3</th>\n",
       "      <td>1</td>\n",
       "    </tr>\n",
       "    <tr>\n",
       "      <th>4</th>\n",
       "      <td>0</td>\n",
       "    </tr>\n",
       "  </tbody>\n",
       "</table>\n",
       "</div>"
      ],
      "text/plain": [
       "   outcome\n",
       "0        1\n",
       "1        0\n",
       "2        0\n",
       "3        1\n",
       "4        0"
      ]
     },
     "execution_count": 22,
     "metadata": {},
     "output_type": "execute_result"
    }
   ],
   "source": [
    "y.head()"
   ]
  },
  {
   "cell_type": "code",
   "execution_count": 23,
   "metadata": {},
   "outputs": [],
   "source": [
    "from sklearn.model_selection import train_test_split"
   ]
  },
  {
   "cell_type": "code",
   "execution_count": 24,
   "metadata": {},
   "outputs": [],
   "source": [
    "x_train, x_test, y_train, y_test = train_test_split(x, y, test_size=0.2)"
   ]
  },
  {
   "cell_type": "markdown",
   "metadata": {},
   "source": [
    "# SVM MODEL....."
   ]
  },
  {
   "cell_type": "code",
   "execution_count": 26,
   "metadata": {
    "scrolled": true
   },
   "outputs": [
    {
     "name": "stderr",
     "output_type": "stream",
     "text": [
      "C:\\Users\\User\\Anaconda3\\lib\\site-packages\\sklearn\\utils\\validation.py:761: DataConversionWarning: A column-vector y was passed when a 1d array was expected. Please change the shape of y to (n_samples, ), for example using ravel().\n",
      "  y = column_or_1d(y, warn=True)\n"
     ]
    },
    {
     "data": {
      "text/plain": [
       "SVC(C=1.0, cache_size=200, class_weight=None, coef0=0.0,\n",
       "  decision_function_shape='ovr', degree=3, gamma='auto_deprecated',\n",
       "  kernel='linear', max_iter=-1, probability=False, random_state=7,\n",
       "  shrinking=True, tol=0.001, verbose=False)"
      ]
     },
     "execution_count": 26,
     "metadata": {},
     "output_type": "execute_result"
    }
   ],
   "source": [
    "from sklearn.svm import SVC\n",
    "svclassifier = SVC(kernel='linear', random_state=7)\n",
    "svclassifier.fit(x_train, y_train)"
   ]
  },
  {
   "cell_type": "code",
   "execution_count": 27,
   "metadata": {},
   "outputs": [],
   "source": [
    "y_pred = svclassifier.predict(x_test)"
   ]
  },
  {
   "cell_type": "code",
   "execution_count": 28,
   "metadata": {},
   "outputs": [],
   "source": [
    "from sklearn.metrics import classification_report, confusion_matrix, accuracy_score,mean_absolute_error, mean_squared_error"
   ]
  },
  {
   "cell_type": "code",
   "execution_count": 29,
   "metadata": {},
   "outputs": [
    {
     "name": "stdout",
     "output_type": "stream",
     "text": [
      "[[8 0]\n",
      " [1 1]]\n",
      "              precision    recall  f1-score   support\n",
      "\n",
      "           0       0.89      1.00      0.94         8\n",
      "           1       1.00      0.50      0.67         2\n",
      "\n",
      "   micro avg       0.90      0.90      0.90        10\n",
      "   macro avg       0.94      0.75      0.80        10\n",
      "weighted avg       0.91      0.90      0.89        10\n",
      "\n",
      "Accuracy: 0.9\n",
      "Mean Absolute Error: 0.1\n",
      "Mean Squared Error: 0.1\n",
      "Root Mean Squared Error: 0.31622776601683794\n"
     ]
    }
   ],
   "source": [
    "print(confusion_matrix(y_test, y_pred))\n",
    "print(classification_report(y_test, y_pred))\n",
    "print('Accuracy:', accuracy_score(y_test, y_pred))\n",
    "print('Mean Absolute Error:', mean_absolute_error (y_test, y_pred))\n",
    "print('Mean Squared Error:', mean_squared_error (y_test, y_pred))\n",
    "print('Root Mean Squared Error:', np.sqrt(mean_absolute_error (y_test, y_pred)))"
   ]
  },
  {
   "cell_type": "code",
   "execution_count": 30,
   "metadata": {},
   "outputs": [
    {
     "data": {
      "text/plain": [
       "<matplotlib.axes._subplots.AxesSubplot at 0x1d2321192b0>"
      ]
     },
     "execution_count": 30,
     "metadata": {},
     "output_type": "execute_result"
    },
    {
     "data": {
      "image/png": "[encoded data removed]",
      "text/plain": [
       "<Figure size 432x288 with 2 Axes>"
      ]
     },
     "metadata": {
      "needs_background": "light"
     },
     "output_type": "display_data"
    }
   ],
   "source": [
    "cm = confusion_matrix(y_test, y_pred)\n",
    "sns.heatmap(cm, annot = True)"
   ]
  },
  {
   "cell_type": "markdown",
   "metadata": {},
   "source": [
    "# Using RANDOM FOREST"
   ]
  },
  {
   "cell_type": "code",
   "execution_count": 32,
   "metadata": {},
   "outputs": [],
   "source": [
    "from sklearn.ensemble import RandomForestClassifier\n",
    "from sklearn.metrics import classification_report, confusion_matrix, accuracy_score, mean_absolute_error, mean_squared_error"
   ]
  },
  {
   "cell_type": "code",
   "execution_count": 33,
   "metadata": {},
   "outputs": [],
   "source": [
    "x = pd.DataFrame(data.iloc[:,:-1])\n",
    "y = pd.DataFrame(data.iloc[:,-1])"
   ]
  },
  {
   "cell_type": "code",
   "execution_count": 34,
   "metadata": {},
   "outputs": [
    {
     "data": {
      "text/html": [
       "<div>\n",
       "<style scoped>\n",
       "    .dataframe tbody tr th:only-of-type {\n",
       "        vertical-align: middle;\n",
       "    }\n",
       "\n",
       "    .dataframe tbody tr th {\n",
       "        vertical-align: top;\n",
       "    }\n",
       "\n",
       "    .dataframe thead th {\n",
       "        text-align: right;\n",
       "    }\n",
       "</style>\n",
       "<table border=\"1\" class=\"dataframe\">\n",
       "  <thead>\n",
       "    <tr style=\"text-align: right;\">\n",
       "      <th></th>\n",
       "      <th>age</th>\n",
       "      <th>bloodpressure</th>\n",
       "      <th>bloodsugar</th>\n",
       "      <th>BMI</th>\n",
       "      <th>weight</th>\n",
       "    </tr>\n",
       "  </thead>\n",
       "  <tbody>\n",
       "    <tr>\n",
       "      <th>0</th>\n",
       "      <td>55</td>\n",
       "      <td>118</td>\n",
       "      <td>350</td>\n",
       "      <td>33.0</td>\n",
       "      <td>60</td>\n",
       "    </tr>\n",
       "    <tr>\n",
       "      <th>1</th>\n",
       "      <td>38</td>\n",
       "      <td>105</td>\n",
       "      <td>150</td>\n",
       "      <td>23.3</td>\n",
       "      <td>57</td>\n",
       "    </tr>\n",
       "    <tr>\n",
       "      <th>2</th>\n",
       "      <td>32</td>\n",
       "      <td>107</td>\n",
       "      <td>160</td>\n",
       "      <td>23.3</td>\n",
       "      <td>66</td>\n",
       "    </tr>\n",
       "    <tr>\n",
       "      <th>3</th>\n",
       "      <td>21</td>\n",
       "      <td>73</td>\n",
       "      <td>200</td>\n",
       "      <td>28.1</td>\n",
       "      <td>80</td>\n",
       "    </tr>\n",
       "    <tr>\n",
       "      <th>4</th>\n",
       "      <td>33</td>\n",
       "      <td>103</td>\n",
       "      <td>137</td>\n",
       "      <td>43.1</td>\n",
       "      <td>100</td>\n",
       "    </tr>\n",
       "  </tbody>\n",
       "</table>\n",
       "</div>"
      ],
      "text/plain": [
       "   age  bloodpressure  bloodsugar   BMI  weight\n",
       "0   55            118         350  33.0      60\n",
       "1   38            105         150  23.3      57\n",
       "2   32            107         160  23.3      66\n",
       "3   21             73         200  28.1      80\n",
       "4   33            103         137  43.1     100"
      ]
     },
     "execution_count": 34,
     "metadata": {},
     "output_type": "execute_result"
    }
   ],
   "source": [
    "x.head()"
   ]
  },
  {
   "cell_type": "code",
   "execution_count": 35,
   "metadata": {},
   "outputs": [
    {
     "data": {
      "text/html": [
       "<div>\n",
       "<style scoped>\n",
       "    .dataframe tbody tr th:only-of-type {\n",
       "        vertical-align: middle;\n",
       "    }\n",
       "\n",
       "    .dataframe tbody tr th {\n",
       "        vertical-align: top;\n",
       "    }\n",
       "\n",
       "    .dataframe thead th {\n",
       "        text-align: right;\n",
       "    }\n",
       "</style>\n",
       "<table border=\"1\" class=\"dataframe\">\n",
       "  <thead>\n",
       "    <tr style=\"text-align: right;\">\n",
       "      <th></th>\n",
       "      <th>outcome</th>\n",
       "    </tr>\n",
       "  </thead>\n",
       "  <tbody>\n",
       "    <tr>\n",
       "      <th>0</th>\n",
       "      <td>1</td>\n",
       "    </tr>\n",
       "    <tr>\n",
       "      <th>1</th>\n",
       "      <td>0</td>\n",
       "    </tr>\n",
       "    <tr>\n",
       "      <th>2</th>\n",
       "      <td>0</td>\n",
       "    </tr>\n",
       "    <tr>\n",
       "      <th>3</th>\n",
       "      <td>1</td>\n",
       "    </tr>\n",
       "    <tr>\n",
       "      <th>4</th>\n",
       "      <td>0</td>\n",
       "    </tr>\n",
       "    <tr>\n",
       "      <th>5</th>\n",
       "      <td>0</td>\n",
       "    </tr>\n",
       "    <tr>\n",
       "      <th>6</th>\n",
       "      <td>0</td>\n",
       "    </tr>\n",
       "    <tr>\n",
       "      <th>7</th>\n",
       "      <td>0</td>\n",
       "    </tr>\n",
       "    <tr>\n",
       "      <th>8</th>\n",
       "      <td>0</td>\n",
       "    </tr>\n",
       "    <tr>\n",
       "      <th>9</th>\n",
       "      <td>0</td>\n",
       "    </tr>\n",
       "    <tr>\n",
       "      <th>10</th>\n",
       "      <td>0</td>\n",
       "    </tr>\n",
       "    <tr>\n",
       "      <th>11</th>\n",
       "      <td>0</td>\n",
       "    </tr>\n",
       "    <tr>\n",
       "      <th>12</th>\n",
       "      <td>0</td>\n",
       "    </tr>\n",
       "    <tr>\n",
       "      <th>13</th>\n",
       "      <td>0</td>\n",
       "    </tr>\n",
       "    <tr>\n",
       "      <th>14</th>\n",
       "      <td>1</td>\n",
       "    </tr>\n",
       "    <tr>\n",
       "      <th>15</th>\n",
       "      <td>0</td>\n",
       "    </tr>\n",
       "    <tr>\n",
       "      <th>16</th>\n",
       "      <td>0</td>\n",
       "    </tr>\n",
       "    <tr>\n",
       "      <th>17</th>\n",
       "      <td>0</td>\n",
       "    </tr>\n",
       "    <tr>\n",
       "      <th>18</th>\n",
       "      <td>1</td>\n",
       "    </tr>\n",
       "    <tr>\n",
       "      <th>19</th>\n",
       "      <td>0</td>\n",
       "    </tr>\n",
       "    <tr>\n",
       "      <th>20</th>\n",
       "      <td>1</td>\n",
       "    </tr>\n",
       "    <tr>\n",
       "      <th>21</th>\n",
       "      <td>1</td>\n",
       "    </tr>\n",
       "    <tr>\n",
       "      <th>22</th>\n",
       "      <td>1</td>\n",
       "    </tr>\n",
       "    <tr>\n",
       "      <th>23</th>\n",
       "      <td>0</td>\n",
       "    </tr>\n",
       "    <tr>\n",
       "      <th>24</th>\n",
       "      <td>0</td>\n",
       "    </tr>\n",
       "    <tr>\n",
       "      <th>25</th>\n",
       "      <td>0</td>\n",
       "    </tr>\n",
       "    <tr>\n",
       "      <th>26</th>\n",
       "      <td>0</td>\n",
       "    </tr>\n",
       "    <tr>\n",
       "      <th>27</th>\n",
       "      <td>0</td>\n",
       "    </tr>\n",
       "    <tr>\n",
       "      <th>28</th>\n",
       "      <td>0</td>\n",
       "    </tr>\n",
       "    <tr>\n",
       "      <th>29</th>\n",
       "      <td>0</td>\n",
       "    </tr>\n",
       "    <tr>\n",
       "      <th>30</th>\n",
       "      <td>0</td>\n",
       "    </tr>\n",
       "    <tr>\n",
       "      <th>31</th>\n",
       "      <td>0</td>\n",
       "    </tr>\n",
       "    <tr>\n",
       "      <th>32</th>\n",
       "      <td>0</td>\n",
       "    </tr>\n",
       "    <tr>\n",
       "      <th>33</th>\n",
       "      <td>0</td>\n",
       "    </tr>\n",
       "    <tr>\n",
       "      <th>34</th>\n",
       "      <td>0</td>\n",
       "    </tr>\n",
       "    <tr>\n",
       "      <th>35</th>\n",
       "      <td>0</td>\n",
       "    </tr>\n",
       "    <tr>\n",
       "      <th>36</th>\n",
       "      <td>0</td>\n",
       "    </tr>\n",
       "    <tr>\n",
       "      <th>37</th>\n",
       "      <td>0</td>\n",
       "    </tr>\n",
       "    <tr>\n",
       "      <th>38</th>\n",
       "      <td>0</td>\n",
       "    </tr>\n",
       "    <tr>\n",
       "      <th>39</th>\n",
       "      <td>0</td>\n",
       "    </tr>\n",
       "    <tr>\n",
       "      <th>40</th>\n",
       "      <td>0</td>\n",
       "    </tr>\n",
       "    <tr>\n",
       "      <th>41</th>\n",
       "      <td>0</td>\n",
       "    </tr>\n",
       "    <tr>\n",
       "      <th>42</th>\n",
       "      <td>0</td>\n",
       "    </tr>\n",
       "    <tr>\n",
       "      <th>43</th>\n",
       "      <td>0</td>\n",
       "    </tr>\n",
       "    <tr>\n",
       "      <th>44</th>\n",
       "      <td>0</td>\n",
       "    </tr>\n",
       "    <tr>\n",
       "      <th>45</th>\n",
       "      <td>0</td>\n",
       "    </tr>\n",
       "    <tr>\n",
       "      <th>46</th>\n",
       "      <td>0</td>\n",
       "    </tr>\n",
       "  </tbody>\n",
       "</table>\n",
       "</div>"
      ],
      "text/plain": [
       "    outcome\n",
       "0         1\n",
       "1         0\n",
       "2         0\n",
       "3         1\n",
       "4         0\n",
       "5         0\n",
       "6         0\n",
       "7         0\n",
       "8         0\n",
       "9         0\n",
       "10        0\n",
       "11        0\n",
       "12        0\n",
       "13        0\n",
       "14        1\n",
       "15        0\n",
       "16        0\n",
       "17        0\n",
       "18        1\n",
       "19        0\n",
       "20        1\n",
       "21        1\n",
       "22        1\n",
       "23        0\n",
       "24        0\n",
       "25        0\n",
       "26        0\n",
       "27        0\n",
       "28        0\n",
       "29        0\n",
       "30        0\n",
       "31        0\n",
       "32        0\n",
       "33        0\n",
       "34        0\n",
       "35        0\n",
       "36        0\n",
       "37        0\n",
       "38        0\n",
       "39        0\n",
       "40        0\n",
       "41        0\n",
       "42        0\n",
       "43        0\n",
       "44        0\n",
       "45        0\n",
       "46        0"
      ]
     },
     "execution_count": 35,
     "metadata": {},
     "output_type": "execute_result"
    }
   ],
   "source": [
    "y"
   ]
  },
  {
   "cell_type": "code",
   "execution_count": 36,
   "metadata": {},
   "outputs": [],
   "source": [
    "from sklearn.model_selection import train_test_split\n",
    "x_train, x_test, y_train, y_test = train_test_split(x, y, test_size = 0.20)"
   ]
  },
  {
   "cell_type": "code",
   "execution_count": 37,
   "metadata": {},
   "outputs": [
    {
     "name": "stderr",
     "output_type": "stream",
     "text": [
      "C:\\Users\\User\\Anaconda3\\lib\\site-packages\\ipykernel_launcher.py:2: DataConversionWarning: A column-vector y was passed when a 1d array was expected. Please change the shape of y to (n_samples,), for example using ravel().\n",
      "  \n"
     ]
    },
    {
     "data": {
      "text/plain": [
       "RandomForestClassifier(bootstrap=True, class_weight=None, criterion='gini',\n",
       "            max_depth=3, max_features='auto', max_leaf_nodes=None,\n",
       "            min_impurity_decrease=0.0, min_impurity_split=None,\n",
       "            min_samples_leaf=1, min_samples_split=2,\n",
       "            min_weight_fraction_leaf=0.0, n_estimators=20, n_jobs=None,\n",
       "            oob_score=False, random_state=1, verbose=0, warm_start=False)"
      ]
     },
     "execution_count": 37,
     "metadata": {},
     "output_type": "execute_result"
    }
   ],
   "source": [
    "classifier = RandomForestClassifier(n_estimators = 20, criterion = 'gini', random_state = 1, max_depth = 3)\n",
    "classifier.fit(x_train, y_train)"
   ]
  },
  {
   "cell_type": "code",
   "execution_count": 38,
   "metadata": {},
   "outputs": [],
   "source": [
    "y_pred = classifier.predict(x_test)"
   ]
  },
  {
   "cell_type": "code",
   "execution_count": 39,
   "metadata": {
    "scrolled": false
   },
   "outputs": [
    {
     "name": "stdout",
     "output_type": "stream",
     "text": [
      "[[9 0]\n",
      " [0 1]]\n",
      "              precision    recall  f1-score   support\n",
      "\n",
      "           0       1.00      1.00      1.00         9\n",
      "           1       1.00      1.00      1.00         1\n",
      "\n",
      "   micro avg       1.00      1.00      1.00        10\n",
      "   macro avg       1.00      1.00      1.00        10\n",
      "weighted avg       1.00      1.00      1.00        10\n",
      "\n",
      "Accuracy: 1.0\n",
      "Mean Absolute Error: 0.0\n",
      "Mean Squared Error: 0.0\n",
      "Root Mean Squared Error: 0.0\n"
     ]
    }
   ],
   "source": [
    "print(confusion_matrix(y_test, y_pred))\n",
    "print(classification_report(y_test, y_pred))\n",
    "print('Accuracy:', accuracy_score(y_test, y_pred))\n",
    "print('Mean Absolute Error:', mean_absolute_error (y_test, y_pred))\n",
    "print('Mean Squared Error:', mean_squared_error (y_test, y_pred))\n",
    "print('Root Mean Squared Error:', np.sqrt(mean_absolute_error (y_test, y_pred)))"
   ]
  },
  {
   "cell_type": "code",
   "execution_count": 40,
   "metadata": {},
   "outputs": [
    {
     "data": {
      "text/plain": [
       "<matplotlib.axes._subplots.AxesSubplot at 0x1d2316afac8>"
      ]
     },
     "execution_count": 40,
     "metadata": {},
     "output_type": "execute_result"
    },
    {
     "data": {
      "image/png": "[encoded data removed]",
      "text/plain": [
       "<Figure size 432x288 with 2 Axes>"
      ]
     },
     "metadata": {
      "needs_background": "light"
     },
     "output_type": "display_data"
    }
   ],
   "source": [
    "cm = pd.DataFrame(confusion_matrix(y_test, y_pred))\n",
    "sns.heatmap(cm, annot = True)"
   ]
  },
  {
   "cell_type": "code",
   "execution_count": 41,
   "metadata": {},
   "outputs": [
    {
     "data": {
      "text/plain": [
       "bloodsugar       0.730216\n",
       "age              0.124917\n",
       "bloodpressure    0.054467\n",
       "weight           0.048682\n",
       "BMI              0.041718\n",
       "dtype: float64"
      ]
     },
     "execution_count": 41,
     "metadata": {},
     "output_type": "execute_result"
    }
   ],
   "source": [
    "feature_imp = pd.Series (classifier.feature_importances_,index = x.columns).sort_values (ascending = False)\n",
    "feature_imp"
   ]
  },
  {
   "cell_type": "code",
   "execution_count": 42,
   "metadata": {},
   "outputs": [
    {
     "data": {
      "image/png": "[encoded data removed]",
      "text/plain": [
       "<Figure size 432x288 with 1 Axes>"
      ]
     },
     "metadata": {
      "needs_background": "light"
     },
     "output_type": "display_data"
    }
   ],
   "source": [
    "sns.barplot(x=feature_imp, y = feature_imp.index)\n",
    "plt.xlabel('Feature Importance Score')\n",
    "plt.xlabel('Features')\n",
    "plt.title('Visualizing Important Features')\n",
    "plt.show()"
   ]
  },
  {
   "cell_type": "markdown",
   "metadata": {},
   "source": [
    "# Using KNN..."
   ]
  },
  {
   "cell_type": "code",
   "execution_count": 43,
   "metadata": {},
   "outputs": [],
   "source": [
    "#Using KNN Classifier\n",
    "from sklearn.preprocessing import StandardScaler"
   ]
  },
  {
   "cell_type": "code",
   "execution_count": 44,
   "metadata": {},
   "outputs": [],
   "source": [
    "scaler = StandardScaler()"
   ]
  },
  {
   "cell_type": "code",
   "execution_count": 45,
   "metadata": {},
   "outputs": [
    {
     "name": "stderr",
     "output_type": "stream",
     "text": [
      "C:\\Users\\User\\Anaconda3\\lib\\site-packages\\sklearn\\preprocessing\\data.py:625: DataConversionWarning: Data with input dtype int64, float64 were all converted to float64 by StandardScaler.\n",
      "  return self.partial_fit(X, y)\n"
     ]
    },
    {
     "data": {
      "text/plain": [
       "StandardScaler(copy=True, with_mean=True, with_std=True)"
      ]
     },
     "execution_count": 45,
     "metadata": {},
     "output_type": "execute_result"
    }
   ],
   "source": [
    "scaler.fit(data.drop('outcome', axis = 1))"
   ]
  },
  {
   "cell_type": "code",
   "execution_count": 46,
   "metadata": {
    "scrolled": true
   },
   "outputs": [
    {
     "name": "stderr",
     "output_type": "stream",
     "text": [
      "C:\\Users\\User\\Anaconda3\\lib\\site-packages\\ipykernel_launcher.py:1: DataConversionWarning: Data with input dtype int64, float64 were all converted to float64 by StandardScaler.\n",
      "  \"\"\"Entry point for launching an IPython kernel.\n"
     ]
    },
    {
     "data": {
      "text/html": [
       "<div>\n",
       "<style scoped>\n",
       "    .dataframe tbody tr th:only-of-type {\n",
       "        vertical-align: middle;\n",
       "    }\n",
       "\n",
       "    .dataframe tbody tr th {\n",
       "        vertical-align: top;\n",
       "    }\n",
       "\n",
       "    .dataframe thead th {\n",
       "        text-align: right;\n",
       "    }\n",
       "</style>\n",
       "<table border=\"1\" class=\"dataframe\">\n",
       "  <thead>\n",
       "    <tr style=\"text-align: right;\">\n",
       "      <th></th>\n",
       "      <th>age</th>\n",
       "      <th>bloodpressure</th>\n",
       "      <th>bloodsugar</th>\n",
       "      <th>BMI</th>\n",
       "      <th>weight</th>\n",
       "    </tr>\n",
       "  </thead>\n",
       "  <tbody>\n",
       "    <tr>\n",
       "      <th>0</th>\n",
       "      <td>0.467886</td>\n",
       "      <td>0.410468</td>\n",
       "      <td>3.650081</td>\n",
       "      <td>0.245299</td>\n",
       "      <td>-1.853990</td>\n",
       "    </tr>\n",
       "    <tr>\n",
       "      <th>1</th>\n",
       "      <td>-0.582229</td>\n",
       "      <td>-0.358845</td>\n",
       "      <td>-0.683180</td>\n",
       "      <td>-1.558440</td>\n",
       "      <td>-2.085738</td>\n",
       "    </tr>\n",
       "    <tr>\n",
       "      <th>2</th>\n",
       "      <td>-0.952858</td>\n",
       "      <td>-0.240489</td>\n",
       "      <td>-0.466517</td>\n",
       "      <td>-1.558440</td>\n",
       "      <td>-1.390492</td>\n",
       "    </tr>\n",
       "    <tr>\n",
       "      <th>3</th>\n",
       "      <td>-1.632344</td>\n",
       "      <td>-2.252538</td>\n",
       "      <td>0.400135</td>\n",
       "      <td>-0.665868</td>\n",
       "      <td>-0.308998</td>\n",
       "    </tr>\n",
       "    <tr>\n",
       "      <th>4</th>\n",
       "      <td>-0.891086</td>\n",
       "      <td>-0.477201</td>\n",
       "      <td>-0.964842</td>\n",
       "      <td>2.123419</td>\n",
       "      <td>1.235993</td>\n",
       "    </tr>\n",
       "  </tbody>\n",
       "</table>\n",
       "</div>"
      ],
      "text/plain": [
       "        age  bloodpressure  bloodsugar       BMI    weight\n",
       "0  0.467886       0.410468    3.650081  0.245299 -1.853990\n",
       "1 -0.582229      -0.358845   -0.683180 -1.558440 -2.085738\n",
       "2 -0.952858      -0.240489   -0.466517 -1.558440 -1.390492\n",
       "3 -1.632344      -2.252538    0.400135 -0.665868 -0.308998\n",
       "4 -0.891086      -0.477201   -0.964842  2.123419  1.235993"
      ]
     },
     "execution_count": 46,
     "metadata": {},
     "output_type": "execute_result"
    }
   ],
   "source": [
    "scaled_features = scaler.transform(data.drop('outcome', axis = 1))\n",
    "sc_data = pd.DataFrame(scaled_features, columns = data.columns[:-1])\n",
    "sc_data.head()"
   ]
  },
  {
   "cell_type": "code",
   "execution_count": 47,
   "metadata": {},
   "outputs": [
    {
     "data": {
      "text/plain": [
       "0     1\n",
       "1     0\n",
       "2     0\n",
       "3     1\n",
       "4     0\n",
       "5     0\n",
       "6     0\n",
       "7     0\n",
       "8     0\n",
       "9     0\n",
       "10    0\n",
       "11    0\n",
       "12    0\n",
       "13    0\n",
       "14    1\n",
       "15    0\n",
       "16    0\n",
       "17    0\n",
       "18    1\n",
       "19    0\n",
       "20    1\n",
       "21    1\n",
       "22    1\n",
       "23    0\n",
       "24    0\n",
       "25    0\n",
       "26    0\n",
       "27    0\n",
       "28    0\n",
       "29    0\n",
       "30    0\n",
       "31    0\n",
       "32    0\n",
       "33    0\n",
       "34    0\n",
       "35    0\n",
       "36    0\n",
       "37    0\n",
       "38    0\n",
       "39    0\n",
       "40    0\n",
       "41    0\n",
       "42    0\n",
       "43    0\n",
       "44    0\n",
       "45    0\n",
       "46    0\n",
       "Name: outcome, dtype: int64"
      ]
     },
     "execution_count": 47,
     "metadata": {},
     "output_type": "execute_result"
    }
   ],
   "source": [
    "data['outcome']"
   ]
  },
  {
   "cell_type": "code",
   "execution_count": 48,
   "metadata": {
    "scrolled": false
   },
   "outputs": [
    {
     "name": "stderr",
     "output_type": "stream",
     "text": [
      "C:\\Users\\User\\Anaconda3\\lib\\site-packages\\scipy\\stats\\stats.py:1713: FutureWarning: Using a non-tuple sequence for multidimensional indexing is deprecated; use `arr[tuple(seq)]` instead of `arr[seq]`. In the future this will be interpreted as an array index, `arr[np.array(seq)]`, which will result either in an error or a different result.\n",
      "  return np.add.reduce(sorted[indexer] * weights, axis=axis) / sumval\n",
      "C:\\Users\\User\\Anaconda3\\lib\\site-packages\\statsmodels\\nonparametric\\kde.py:488: RuntimeWarning: invalid value encountered in true_divide\n",
      "  binned = fast_linbin(X, a, b, gridsize) / (delta * nobs)\n",
      "C:\\Users\\User\\Anaconda3\\lib\\site-packages\\statsmodels\\nonparametric\\kdetools.py:34: RuntimeWarning: invalid value encountered in double_scalars\n",
      "  FAC1 = 2*(np.pi*bw/RANGE)**2\n",
      "C:\\Users\\User\\Anaconda3\\lib\\site-packages\\numpy\\core\\fromnumeric.py:83: RuntimeWarning: invalid value encountered in reduce\n",
      "  return ufunc.reduce(obj, axis, dtype, out, **passkwargs)\n"
     ]
    },
    {
     "data": {
      "text/plain": [
       "<seaborn.axisgrid.PairGrid at 0x1d23111c780>"
      ]
     },
     "execution_count": 48,
     "metadata": {},
     "output_type": "execute_result"
    },
    {
     "data": {
      "image/png": "[encoded data removed]",
      "text/plain": [
       "<Figure size 1131.5x1080 with 42 Axes>"
      ]
     },
     "metadata": {
      "needs_background": "light"
     },
     "output_type": "display_data"
    }
   ],
   "source": [
    "import seaborn as sns\n",
    "sns.pairplot(data, hue= 'outcome')"
   ]
  },
  {
   "cell_type": "code",
   "execution_count": 49,
   "metadata": {},
   "outputs": [],
   "source": [
    "from sklearn.model_selection import train_test_split\n",
    "\n",
    "x_train, x_test, y_train, y_test = train_test_split (scaled_features, data['outcome'], test_size = 0.2)"
   ]
  },
  {
   "cell_type": "code",
   "execution_count": 50,
   "metadata": {},
   "outputs": [],
   "source": [
    "#Initialize an energy that stores the error rate\n",
    "from sklearn.neighbors import KNeighborsClassifier"
   ]
  },
  {
   "cell_type": "code",
   "execution_count": 51,
   "metadata": {},
   "outputs": [],
   "source": [
    "knn = KNeighborsClassifier(n_neighbors = 1)"
   ]
  },
  {
   "cell_type": "code",
   "execution_count": 52,
   "metadata": {
    "scrolled": true
   },
   "outputs": [
    {
     "data": {
      "text/plain": [
       "KNeighborsClassifier(algorithm='auto', leaf_size=30, metric='minkowski',\n",
       "           metric_params=None, n_jobs=None, n_neighbors=1, p=2,\n",
       "           weights='uniform')"
      ]
     },
     "execution_count": 52,
     "metadata": {},
     "output_type": "execute_result"
    }
   ],
   "source": [
    "knn.fit(x_train, y_train)"
   ]
  },
  {
   "cell_type": "code",
   "execution_count": 53,
   "metadata": {},
   "outputs": [],
   "source": [
    "pred = knn.predict(x_test)"
   ]
  },
  {
   "cell_type": "code",
   "execution_count": 54,
   "metadata": {},
   "outputs": [],
   "source": [
    "from sklearn.metrics import confusion_matrix, classification_report, accuracy_score, mean_absolute_error, mean_squared_error"
   ]
  },
  {
   "cell_type": "code",
   "execution_count": 55,
   "metadata": {
    "scrolled": true
   },
   "outputs": [
    {
     "name": "stdout",
     "output_type": "stream",
     "text": [
      "[[8 0]\n",
      " [2 0]]\n",
      "              precision    recall  f1-score   support\n",
      "\n",
      "           0       0.80      1.00      0.89         8\n",
      "           1       0.00      0.00      0.00         2\n",
      "\n",
      "   micro avg       0.80      0.80      0.80        10\n",
      "   macro avg       0.40      0.50      0.44        10\n",
      "weighted avg       0.64      0.80      0.71        10\n",
      "\n",
      "Accuracy: 0.8\n",
      "Mean Absolute Error: 0.2\n",
      "Mean Squared Error: 0.2\n",
      "Root Mean Squared Error: 0.4472135954999579\n"
     ]
    },
    {
     "name": "stderr",
     "output_type": "stream",
     "text": [
      "C:\\Users\\User\\Anaconda3\\lib\\site-packages\\sklearn\\metrics\\classification.py:1143: UndefinedMetricWarning: Precision and F-score are ill-defined and being set to 0.0 in labels with no predicted samples.\n",
      "  'precision', 'predicted', average, warn_for)\n",
      "C:\\Users\\User\\Anaconda3\\lib\\site-packages\\sklearn\\metrics\\classification.py:1143: UndefinedMetricWarning: Precision and F-score are ill-defined and being set to 0.0 in labels with no predicted samples.\n",
      "  'precision', 'predicted', average, warn_for)\n",
      "C:\\Users\\User\\Anaconda3\\lib\\site-packages\\sklearn\\metrics\\classification.py:1143: UndefinedMetricWarning: Precision and F-score are ill-defined and being set to 0.0 in labels with no predicted samples.\n",
      "  'precision', 'predicted', average, warn_for)\n"
     ]
    }
   ],
   "source": [
    "print(confusion_matrix(y_test, pred))\n",
    "print(classification_report(y_test, pred))\n",
    "print('Accuracy:', accuracy_score(y_test, pred))\n",
    "print('Mean Absolute Error:', mean_absolute_error (y_test, pred))\n",
    "print('Mean Squared Error:', mean_squared_error (y_test, pred))\n",
    "print('Root Mean Squared Error:', np.sqrt(mean_squared_error (y_test, pred)))"
   ]
  },
  {
   "cell_type": "markdown",
   "metadata": {},
   "source": [
    "# Using Decision Tree..."
   ]
  },
  {
   "cell_type": "code",
   "execution_count": 57,
   "metadata": {},
   "outputs": [],
   "source": [
    "from sklearn.model_selection import train_test_split\n",
    "x_train, x_test, y_train, y_test = train_test_split (x, y, test_size = 0.20)"
   ]
  },
  {
   "cell_type": "code",
   "execution_count": 58,
   "metadata": {},
   "outputs": [
    {
     "data": {
      "text/plain": [
       "DecisionTreeRegressor(criterion='mse', max_depth=4, max_features=None,\n",
       "           max_leaf_nodes=None, min_impurity_decrease=0.0,\n",
       "           min_impurity_split=None, min_samples_leaf=1,\n",
       "           min_samples_split=2, min_weight_fraction_leaf=0.0,\n",
       "           presort=False, random_state=100, splitter='best')"
      ]
     },
     "execution_count": 58,
     "metadata": {},
     "output_type": "execute_result"
    }
   ],
   "source": [
    "from sklearn.tree import DecisionTreeRegressor\n",
    "regressor = DecisionTreeRegressor(criterion='mse', random_state=100, max_depth=4, min_samples_leaf=1)\n",
    "regressor.fit(x_train, y_train)"
   ]
  },
  {
   "cell_type": "code",
   "execution_count": 60,
   "metadata": {},
   "outputs": [],
   "source": [
    "from sklearn.tree import export_graphviz\n",
    "import pydotplus\n",
    "\n",
    "export_graphviz (regressor, out_file = 'reg_tree.dot')"
   ]
  },
  {
   "cell_type": "code",
   "execution_count": 61,
   "metadata": {},
   "outputs": [],
   "source": [
    "y_pred = regressor.predict(x_test)"
   ]
  },
  {
   "cell_type": "code",
   "execution_count": 63,
   "metadata": {},
   "outputs": [
    {
     "name": "stdout",
     "output_type": "stream",
     "text": [
      "[0. 0. 0. 0. 0. 0. 0. 0. 1. 0.]\n",
      "    outcome\n",
      "41        0\n",
      "46        0\n",
      "24        0\n",
      "15        0\n",
      "34        0\n",
      "10        0\n",
      "42        0\n",
      "17        0\n",
      "20        1\n",
      "40        0\n"
     ]
    }
   ],
   "source": [
    "print(y_pred)\n",
    "print(y_test)"
   ]
  },
  {
   "cell_type": "code",
   "execution_count": 66,
   "metadata": {},
   "outputs": [],
   "source": [
    "from sklearn.metrics import confusion_matrix, classification_report, accuracy_score, mean_squared_error, mean_absolute_error"
   ]
  },
  {
   "cell_type": "code",
   "execution_count": 68,
   "metadata": {},
   "outputs": [
    {
     "name": "stdout",
     "output_type": "stream",
     "text": [
      "[[9 0]\n",
      " [0 1]]\n",
      "              precision    recall  f1-score   support\n",
      "\n",
      "           0       1.00      1.00      1.00         9\n",
      "           1       1.00      1.00      1.00         1\n",
      "\n",
      "   micro avg       1.00      1.00      1.00        10\n",
      "   macro avg       1.00      1.00      1.00        10\n",
      "weighted avg       1.00      1.00      1.00        10\n",
      "\n",
      "Mean Absolute Error:  0.0\n",
      "Mean Squared Error:  0.0\n",
      "Accuracy:  1.0\n",
      "Root Mean Squared Error:  0.0\n"
     ]
    }
   ],
   "source": [
    "print(confusion_matrix(y_test, y_pred))\n",
    "print(classification_report(y_test, y_pred))\n",
    "print('Mean Absolute Error: ', mean_absolute_error(y_test, y_pred))\n",
    "print('Mean Squared Error: ', mean_squared_error(y_test, y_pred))\n",
    "print('Accuracy: ', accuracy_score(y_test, y_pred))\n",
    "print('Root Mean Squared Error: ', np.sqrt(mean_squared_error(y_test, y_pred)))"
   ]
  },
  {
   "cell_type": "code",
   "execution_count": 70,
   "metadata": {},
   "outputs": [
    {
     "data": {
      "text/plain": [
       "<matplotlib.axes._subplots.AxesSubplot at 0x1d233d41eb8>"
      ]
     },
     "execution_count": 70,
     "metadata": {},
     "output_type": "execute_result"
    },
    {
     "data": {
      "image/png": "[encoded data removed]",
      "text/plain": [
       "<Figure size 432x288 with 2 Axes>"
      ]
     },
     "metadata": {
      "needs_background": "light"
     },
     "output_type": "display_data"
    }
   ],
   "source": [
    "cm = pd.DataFrame(confusion_matrix(y_test, y_pred))\n",
    "sns.heatmap(cm, annot = True)"
   ]
  },
  {
   "cell_type": "code",
   "execution_count": null,
   "metadata": {},
   "outputs": [],
   "source": []
  },
  {
   "cell_type": "code",
   "execution_count": null,
   "metadata": {},
   "outputs": [],
   "source": []
  },
  {
   "cell_type": "code",
   "execution_count": null,
   "metadata": {
    "scrolled": true
   },
   "outputs": [],
   "source": []
  },
  {
   "cell_type": "code",
   "execution_count": null,
   "metadata": {},
   "outputs": [],
   "source": []
  },
  {
   "cell_type": "code",
   "execution_count": null,
   "metadata": {},
   "outputs": [],
   "source": []
  }
 ],
 "metadata": {
  "kernelspec": {
   "display_name": "Python 3",
   "language": "python",
   "name": "python3"
  },
  "language_info": {
   "codemirror_mode": {
    "name": "ipython",
    "version": 3
   },
   "file_extension": ".py",
   "mimetype": "text/x-python",
   "name": "python",
   "nbconvert_exporter": "python",
   "pygments_lexer": "ipython3",
   "version": "3.7.1"
  }
 },
 "nbformat": 4,
 "nbformat_minor": 2
}
